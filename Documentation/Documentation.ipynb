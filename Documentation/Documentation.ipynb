{
 "cells": [
  {
   "cell_type": "markdown",
   "metadata": {},
   "source": [
    "## Table of Contents"
   ]
  },
  {
   "cell_type": "markdown",
   "metadata": {},
   "source": [
    "## Main Menu"
   ]
  },
  {
   "cell_type": "markdown",
   "metadata": {},
   "source": [
    "## Settings Menu"
   ]
  },
  {
   "cell_type": "markdown",
   "metadata": {},
   "source": [
    "## Level design"
   ]
  },
  {
   "cell_type": "markdown",
   "metadata": {},
   "source": [
    "### Level 1"
   ]
  },
  {
   "cell_type": "markdown",
   "metadata": {},
   "source": [
    "#### Bug fix: cleaning up dead enemies\n",
    "If the enemy life goes to 0, they will clear if the player touches the dead enemies.\n",
    "Here, if the player character touches the enemy character, it'll check the health of enemy character. If the health is 0, the enemy character will clear. Otherwise, it'll initiate fight.\n"
   ]
  },
  {
   "cell_type": "markdown",
   "metadata": {},
   "source": [
    "// Code for player death check\n",
    "private void tmrPlayerMove_Tick(object sender, EventArgs e)\n",
    "{\n",
    "\n",
    "    // check collision with enemies\n",
    "    if (HitAChar(player, enemyPoisonPacket))\n",
    "    {\n",
    "        if (enemyPoisonPacket.Health > 0)\n",
    "        {\n",
    "            Fight(enemyPoisonPacket);\n",
    "        }\n",
    "        else\n",
    "        {\n",
    "            Controls.Remove(picEnemyPoisonPacket);\n",
    "            enemyPoisonPacket = null;\n",
    "        }\n",
    "    }\n",
    "    \n",
    "    else if (HitAChar(player, enemyCheeto))\n",
    "    {\n",
    "        if (enemyCheeto.Health > 0)\n",
    "        {\n",
    "            Fight(enemyCheeto);\n",
    "        }\n",
    "        else\n",
    "        {\n",
    "            Controls.Remove(picEnemyCheeto);\n",
    "            enemyCheeto = null;\n",
    "        }\n",
    "    }\n",
    "    if (HitAChar(player, bossKoolaid))\n",
    "    {\n",
    "        if (bossKoolaid.Health > 0)\n",
    "        {\n",
    "            Fight(bossKoolaid);\n",
    "        }\n",
    "        else\n",
    "        {\n",
    "            Controls.Remove(picBossKoolAid);\n",
    "            bossKoolaid = null;\n",
    "        }\n",
    "    }\n",
    "\n",
    "}"
   ]
  },
  {
   "cell_type": "markdown",
   "metadata": {},
   "source": [
    "#### Bug fix: Adding Death Screen\n",
    "The death screen appears when the player health becomes 0. User can press retry to start the game again, go back to main menu, or just exit the game from this screen.\n",
    "\n",
    "![Death Menu](Images/DeathMenu.jpg)"
   ]
  },
  {
   "cell_type": "markdown",
   "metadata": {},
   "source": [
    "// Code for player death check\n",
    "private void tmrPlayerMove_Tick(object sender, EventArgs e)\n",
    "{\n",
    "            // move player\n",
    "    if (player.Health == 0)\n",
    "    {\n",
    "        // Close the current form (FrmLevel)\n",
    "        this.Close();\n",
    "\n",
    "        // Assuming your default form is named \"FrmDefault\"\n",
    "        FrmDeath formDeath = new FrmDeath();\n",
    "        formDeath.Show();\n",
    "    }\n",
    "}\n",
    "\n",
    "// Code for the death screen form\n",
    "public partial class FrmDeath : Form\n",
    "{\n",
    "    public FrmDeath()\n",
    "    {\n",
    "        InitializeComponent();\n",
    "    }\n",
    "\n",
    "    private void BtnMainMenu_Click(object sender, EventArgs e)\n",
    "    {\n",
    "        this.Close();\n",
    "        FrmMainMenu mainMenu = new FrmMainMenu();\n",
    "        mainMenu.Show();\n",
    "\n",
    "    }\n",
    "\n",
    "    private void BtnRetry_Click(object sender, EventArgs e)\n",
    "    {\n",
    "        this.Hide();\n",
    "        FrmLevel1 Play = new FrmLevel1();\n",
    "        Play.Show();\n",
    "    }\n",
    "\n",
    "    private void BtnExit_Click(object sender, EventArgs e)\n",
    "    {\n",
    "        Application.Exit();\n",
    "\n",
    "    }\n",
    "}"
   ]
  }
 ],
 "metadata": {
  "language_info": {
   "name": "python"
  }
 },
 "nbformat": 4,
 "nbformat_minor": 2
}
